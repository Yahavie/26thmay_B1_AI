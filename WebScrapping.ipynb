{
 "cells": [
  {
   "cell_type": "code",
   "execution_count": 1,
   "id": "6cc45aec-ae2a-4f55-bd44-2fa0670b238c",
   "metadata": {},
   "outputs": [],
   "source": [
    "import requests\n",
    "from bs4 import BeautifulSoup"
   ]
  },
  {
   "cell_type": "code",
   "execution_count": 2,
   "id": "db1e9755-078e-4469-a0ba-dbf42ee048ee",
   "metadata": {},
   "outputs": [],
   "source": [
    "url = 'https://pythonhow.com/example.html'"
   ]
  },
  {
   "cell_type": "code",
   "execution_count": 3,
   "id": "b6c9bf5b-70b1-4880-ad08-f84d3b7c740d",
   "metadata": {},
   "outputs": [],
   "source": [
    "header = {\n",
    "    'User-Agent': 'Mozilla/5.0 (Windows NT 10.0; Win64; x64) AppleWebKit/537.36 (KHTML, like Gecko) Chrome/91.0.4472.77 Safari/537.36',\n",
    "    'Accept': 'text/html,application/xhtml+xml,application/xml;q=0.9,image/avif,image/webp,image/apng,*/*;q=0.8,application/signed-exchange;v=b3;q=0.9',\n",
    "}"
   ]
  },
  {
   "cell_type": "code",
   "execution_count": 4,
   "id": "67177c21-bbd7-4cba-af8c-4910884a59fa",
   "metadata": {},
   "outputs": [],
   "source": [
    "# headers = {\n",
    "#     'sec-ch-ua': '\" Not;A Brand\";v=\"99\", \"Google Chrome\";v=\"91\", \"Chromium\";v=\"91\"',\n",
    "#     'sec-ch-ua-mobile': '?0',\n",
    "#     'Upgrade-Insecure-Requests': '1',\n",
    "#     'User-Agent': 'Mozilla/5.0 (Windows NT 10.0; Win64; x64) AppleWebKit/537.36 (KHTML, like Gecko) Chrome/91.0.4472.77 Safari/537.36',\n",
    "#     'Accept': 'text/html,application/xhtml+xml,application/xml;q=0.9,image/avif,image/webp,image/apng,*/*;q=0.8,application/signed-exchange;v=b3;q=0.9',\n",
    "#     'Sec-Fetch-Site': 'none',\n",
    "#     'Sec-Fetch-Mode': 'navigate',\n",
    "#     'Sec-Fetch-User': '?1',\n",
    "#     'Sec-Fetch-Dest': 'document'    \n",
    "# }"
   ]
  },
  {
   "cell_type": "code",
   "execution_count": 5,
   "id": "d021ecc2-b634-42be-b71a-656a52c948a4",
   "metadata": {},
   "outputs": [],
   "source": [
    "r = requests.get(url, headers = header)"
   ]
  },
  {
   "cell_type": "code",
   "execution_count": 6,
   "id": "b1303dba-f147-4abd-bf24-306a1ed16450",
   "metadata": {},
   "outputs": [
    {
     "data": {
      "text/plain": [
       "200"
      ]
     },
     "execution_count": 6,
     "metadata": {},
     "output_type": "execute_result"
    }
   ],
   "source": [
    "r.status_code"
   ]
  },
  {
   "cell_type": "code",
   "execution_count": 7,
   "id": "bf107ca0-27d0-4ace-98a0-e3244aec2d44",
   "metadata": {},
   "outputs": [
    {
     "name": "stdout",
     "output_type": "stream",
     "text": [
      "<!DOCTYPE html>\n",
      "<html>\n",
      "<head>\n",
      "<style>\n",
      "div.cities {\n",
      "    background-color:black;\n",
      "    color:white;\n",
      "    margin:20px;\n",
      "    padding:20px;\n",
      "} \n",
      "</style>\n",
      "</head>\n",
      "<body>\n",
      "<h1 align=\"center\"> Here are three big cities </h1>\n",
      "<div class=\"cities\">\n",
      "<h2>London</h2>\n",
      "<p>London is the capital of England and it's been a British settlement since 2000 years ago. </p>\n",
      "</div>\n",
      "<div class=\"cities\">\n",
      "<h2>Paris</h2>\n",
      "<p>Paris is the capital city of France. It was declared capital since 508.</p>\n",
      "</div>\n",
      "<div class=\"cities\">\n",
      "<h2>Tokyo</h2>\n",
      "<p>Tokyo is the capital of Japan and one of the most populated cities in the world.</p>\n",
      "</div>\n",
      "</body>\n",
      "</html>\n"
     ]
    }
   ],
   "source": [
    "print(r.text)"
   ]
  },
  {
   "cell_type": "code",
   "execution_count": 8,
   "id": "85bfb26b-24ab-4e8c-93c4-5560ba9fa4e7",
   "metadata": {},
   "outputs": [
    {
     "data": {
      "text/plain": [
       "'<!DOCTYPE html>\\n<html>\\n<head>\\n<style>\\ndiv.cities {\\n    background-color:black;\\n    color:white;\\n    margin:20px;\\n    padding:20px;\\n} \\n</style>\\n</head>\\n<body>\\n<h1 align=\"center\"> Here are three big cities </h1>\\n<div class=\"cities\">\\n<h2>London</h2>\\n<p>London is the capital of England and it\\'s been a British settlement since 2000 years ago. </p>\\n</div>\\n<div class=\"cities\">\\n<h2>Paris</h2>\\n<p>Paris is the capital city of France. It was declared capital since 508.</p>\\n</div>\\n<div class=\"cities\">\\n<h2>Tokyo</h2>\\n<p>Tokyo is the capital of Japan and one of the most populated cities in the world.</p>\\n</div>\\n</body>\\n</html>'"
      ]
     },
     "execution_count": 8,
     "metadata": {},
     "output_type": "execute_result"
    }
   ],
   "source": [
    "text = r.text\n",
    "text"
   ]
  },
  {
   "cell_type": "code",
   "execution_count": 9,
   "id": "f20bbba4-18e6-4e0b-9239-76b70616ec22",
   "metadata": {},
   "outputs": [],
   "source": [
    "soup = BeautifulSoup(text, 'html.parser')"
   ]
  },
  {
   "cell_type": "code",
   "execution_count": 10,
   "id": "0a471538-87c0-4f0b-b41d-629f610b86b9",
   "metadata": {},
   "outputs": [
    {
     "data": {
      "text/plain": [
       "<!DOCTYPE html>\n",
       "\n",
       "<html>\n",
       "<head>\n",
       "<style>\n",
       "div.cities {\n",
       "    background-color:black;\n",
       "    color:white;\n",
       "    margin:20px;\n",
       "    padding:20px;\n",
       "} \n",
       "</style>\n",
       "</head>\n",
       "<body>\n",
       "<h1 align=\"center\"> Here are three big cities </h1>\n",
       "<div class=\"cities\">\n",
       "<h2>London</h2>\n",
       "<p>London is the capital of England and it's been a British settlement since 2000 years ago. </p>\n",
       "</div>\n",
       "<div class=\"cities\">\n",
       "<h2>Paris</h2>\n",
       "<p>Paris is the capital city of France. It was declared capital since 508.</p>\n",
       "</div>\n",
       "<div class=\"cities\">\n",
       "<h2>Tokyo</h2>\n",
       "<p>Tokyo is the capital of Japan and one of the most populated cities in the world.</p>\n",
       "</div>\n",
       "</body>\n",
       "</html>"
      ]
     },
     "execution_count": 10,
     "metadata": {},
     "output_type": "execute_result"
    }
   ],
   "source": [
    "soup"
   ]
  },
  {
   "cell_type": "code",
   "execution_count": 11,
   "id": "740aa6cc-fa09-4d3b-87fc-d86e40f78be2",
   "metadata": {},
   "outputs": [
    {
     "data": {
      "text/plain": [
       "bs4.BeautifulSoup"
      ]
     },
     "execution_count": 11,
     "metadata": {},
     "output_type": "execute_result"
    }
   ],
   "source": [
    "type(soup)"
   ]
  },
  {
   "cell_type": "code",
   "execution_count": 12,
   "id": "4dc6c5c9-7f04-4f1b-af80-3e041164b3c5",
   "metadata": {},
   "outputs": [
    {
     "data": {
      "text/plain": [
       "[<h2>London</h2>, <h2>Paris</h2>, <h2>Tokyo</h2>]"
      ]
     },
     "execution_count": 12,
     "metadata": {},
     "output_type": "execute_result"
    }
   ],
   "source": [
    "soup.find_all('h2')"
   ]
  },
  {
   "cell_type": "code",
   "execution_count": 13,
   "id": "bfd698a8-08eb-440d-bde9-2db76254ff61",
   "metadata": {},
   "outputs": [
    {
     "data": {
      "text/plain": [
       "<h2>London</h2>"
      ]
     },
     "execution_count": 13,
     "metadata": {},
     "output_type": "execute_result"
    }
   ],
   "source": [
    "soup.find_all('h2')[0]"
   ]
  },
  {
   "cell_type": "code",
   "execution_count": 14,
   "id": "5d991617-3852-441f-8bc2-c41540a62bd2",
   "metadata": {},
   "outputs": [
    {
     "data": {
      "text/plain": [
       "'London'"
      ]
     },
     "execution_count": 14,
     "metadata": {},
     "output_type": "execute_result"
    }
   ],
   "source": [
    "soup.find_all('h2')[0].text"
   ]
  },
  {
   "cell_type": "code",
   "execution_count": 15,
   "id": "a557b00d-16be-4edf-b0fa-6359325a10c1",
   "metadata": {},
   "outputs": [
    {
     "data": {
      "text/plain": [
       "['London', 'Paris', 'Tokyo']"
      ]
     },
     "execution_count": 15,
     "metadata": {},
     "output_type": "execute_result"
    }
   ],
   "source": [
    "cities = [i.text for i in soup.find_all('h2')]\n",
    "cities"
   ]
  },
  {
   "cell_type": "code",
   "execution_count": 16,
   "id": "4f1780b0-0483-4f37-9578-9346673de431",
   "metadata": {},
   "outputs": [
    {
     "data": {
      "text/plain": [
       "[<p>London is the capital of England and it's been a British settlement since 2000 years ago. </p>,\n",
       " <p>Paris is the capital city of France. It was declared capital since 508.</p>,\n",
       " <p>Tokyo is the capital of Japan and one of the most populated cities in the world.</p>]"
      ]
     },
     "execution_count": 16,
     "metadata": {},
     "output_type": "execute_result"
    }
   ],
   "source": [
    "soup.find_all('p')"
   ]
  },
  {
   "cell_type": "code",
   "execution_count": 17,
   "id": "c4c8be66-ef73-42d5-acac-b3cee249140e",
   "metadata": {},
   "outputs": [
    {
     "data": {
      "text/plain": [
       "[\"London is the capital of England and it's been a British settlement since 2000 years ago. \",\n",
       " 'Paris is the capital city of France. It was declared capital since 508.',\n",
       " 'Tokyo is the capital of Japan and one of the most populated cities in the world.']"
      ]
     },
     "execution_count": 17,
     "metadata": {},
     "output_type": "execute_result"
    }
   ],
   "source": [
    "desc = [i.text for i in soup.find_all('p')]\n",
    "desc"
   ]
  },
  {
   "cell_type": "code",
   "execution_count": 18,
   "id": "24a36376-63a8-422c-8b4e-2850757debbc",
   "metadata": {},
   "outputs": [],
   "source": [
    "import pandas as pd"
   ]
  },
  {
   "cell_type": "code",
   "execution_count": 19,
   "id": "941c6922-5526-4edc-9bdc-b47c6e5d13b3",
   "metadata": {},
   "outputs": [
    {
     "data": {
      "text/html": [
       "<div>\n",
       "<style scoped>\n",
       "    .dataframe tbody tr th:only-of-type {\n",
       "        vertical-align: middle;\n",
       "    }\n",
       "\n",
       "    .dataframe tbody tr th {\n",
       "        vertical-align: top;\n",
       "    }\n",
       "\n",
       "    .dataframe thead th {\n",
       "        text-align: right;\n",
       "    }\n",
       "</style>\n",
       "<table border=\"1\" class=\"dataframe\">\n",
       "  <thead>\n",
       "    <tr style=\"text-align: right;\">\n",
       "      <th></th>\n",
       "      <th>City</th>\n",
       "      <th>Description</th>\n",
       "    </tr>\n",
       "  </thead>\n",
       "  <tbody>\n",
       "    <tr>\n",
       "      <th>0</th>\n",
       "      <td>London</td>\n",
       "      <td>London is the capital of England and it's been...</td>\n",
       "    </tr>\n",
       "    <tr>\n",
       "      <th>1</th>\n",
       "      <td>Paris</td>\n",
       "      <td>Paris is the capital city of France. It was de...</td>\n",
       "    </tr>\n",
       "    <tr>\n",
       "      <th>2</th>\n",
       "      <td>Tokyo</td>\n",
       "      <td>Tokyo is the capital of Japan and one of the m...</td>\n",
       "    </tr>\n",
       "  </tbody>\n",
       "</table>\n",
       "</div>"
      ],
      "text/plain": [
       "     City                                        Description\n",
       "0  London  London is the capital of England and it's been...\n",
       "1   Paris  Paris is the capital city of France. It was de...\n",
       "2   Tokyo  Tokyo is the capital of Japan and one of the m..."
      ]
     },
     "execution_count": 19,
     "metadata": {},
     "output_type": "execute_result"
    }
   ],
   "source": [
    "df = pd.DataFrame({'City':cities, 'Description':desc})\n",
    "df"
   ]
  },
  {
   "cell_type": "code",
   "execution_count": null,
   "id": "b356a6ab-cc34-46fb-ac9a-f5dea95f87a8",
   "metadata": {},
   "outputs": [],
   "source": []
  }
 ],
 "metadata": {
  "kernelspec": {
   "display_name": "Python 3",
   "language": "python",
   "name": "python3"
  },
  "language_info": {
   "codemirror_mode": {
    "name": "ipython",
    "version": 3
   },
   "file_extension": ".py",
   "mimetype": "text/x-python",
   "name": "python",
   "nbconvert_exporter": "python",
   "pygments_lexer": "ipython3",
   "version": "3.8.8"
  }
 },
 "nbformat": 4,
 "nbformat_minor": 5
}
