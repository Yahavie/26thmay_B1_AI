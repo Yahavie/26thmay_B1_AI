{
 "cells": [
  {
   "cell_type": "code",
   "execution_count": 1,
   "id": "17628e87-ef92-4b67-bc6b-b481ea352eb9",
   "metadata": {},
   "outputs": [],
   "source": [
    "import pandas as pd"
   ]
  },
  {
   "cell_type": "code",
   "execution_count": 2,
   "id": "11cb25c8-a283-4055-ba5d-7fbc6261c9c9",
   "metadata": {},
   "outputs": [],
   "source": [
    "model = pd.read_pickle('HousePricePredictor')"
   ]
  },
  {
   "cell_type": "code",
   "execution_count": 3,
   "id": "b3438eab-6872-4535-b237-896caa4e9998",
   "metadata": {},
   "outputs": [
    {
     "data": {
      "text/plain": [
       "LinearRegression()"
      ]
     },
     "execution_count": 3,
     "metadata": {},
     "output_type": "execute_result"
    }
   ],
   "source": [
    "model"
   ]
  },
  {
   "cell_type": "code",
   "execution_count": 4,
   "id": "6cf83e2d-e75e-4333-979a-8a5e3f22b3df",
   "metadata": {},
   "outputs": [],
   "source": [
    "cols = ['Avg. Area Income', 'Avg. Area House Age', 'Avg. Area Number of Rooms','Area Population']"
   ]
  },
  {
   "cell_type": "code",
   "execution_count": 13,
   "id": "0c25c73d-c4b3-49e5-98e9-caa5f045f3dd",
   "metadata": {},
   "outputs": [
    {
     "name": "stdin",
     "output_type": "stream",
     "text": [
      "Enter the income:  100000\n",
      "Enter the house age:  10\n",
      "Enter the number of rooms:  10\n",
      "Enter the populaion:  50000\n"
     ]
    }
   ],
   "source": [
    "income = eval(input('Enter the income: '))\n",
    "house_age = eval(input('Enter the house age: '))\n",
    "rooms = eval(input('Enter the number of rooms: '))\n",
    "population = eval(input('Enter the populaion: '))\n",
    "query = pd.DataFrame({'Avg. Area Income':[income],\n",
    "                      'Avg. Area House Age':[house_age],\n",
    "                      'Avg. Area Number of Rooms':[rooms],\n",
    "                      'Area Population':[population]})"
   ]
  },
  {
   "cell_type": "code",
   "execution_count": 14,
   "id": "d18a7708-6528-4593-b9ca-5daee2b9febb",
   "metadata": {},
   "outputs": [
    {
     "data": {
      "text/html": [
       "<div>\n",
       "<style scoped>\n",
       "    .dataframe tbody tr th:only-of-type {\n",
       "        vertical-align: middle;\n",
       "    }\n",
       "\n",
       "    .dataframe tbody tr th {\n",
       "        vertical-align: top;\n",
       "    }\n",
       "\n",
       "    .dataframe thead th {\n",
       "        text-align: right;\n",
       "    }\n",
       "</style>\n",
       "<table border=\"1\" class=\"dataframe\">\n",
       "  <thead>\n",
       "    <tr style=\"text-align: right;\">\n",
       "      <th></th>\n",
       "      <th>Avg. Area Income</th>\n",
       "      <th>Avg. Area House Age</th>\n",
       "      <th>Avg. Area Number of Rooms</th>\n",
       "      <th>Area Population</th>\n",
       "    </tr>\n",
       "  </thead>\n",
       "  <tbody>\n",
       "    <tr>\n",
       "      <th>0</th>\n",
       "      <td>100000</td>\n",
       "      <td>10</td>\n",
       "      <td>10</td>\n",
       "      <td>50000</td>\n",
       "    </tr>\n",
       "  </tbody>\n",
       "</table>\n",
       "</div>"
      ],
      "text/plain": [
       "   Avg. Area Income  Avg. Area House Age  Avg. Area Number of Rooms  \\\n",
       "0            100000                   10                         10   \n",
       "\n",
       "   Area Population  \n",
       "0            50000  "
      ]
     },
     "execution_count": 14,
     "metadata": {},
     "output_type": "execute_result"
    }
   ],
   "source": [
    "query"
   ]
  },
  {
   "cell_type": "code",
   "execution_count": 15,
   "id": "cc558868-08c4-43dc-a3bb-ad5f3ac4155e",
   "metadata": {},
   "outputs": [
    {
     "data": {
      "text/plain": [
       "array([3150037.60985679])"
      ]
     },
     "execution_count": 15,
     "metadata": {},
     "output_type": "execute_result"
    }
   ],
   "source": [
    "model.predict(query)"
   ]
  },
  {
   "cell_type": "code",
   "execution_count": 16,
   "id": "c9858c57-7d17-4030-a401-fe47a750530d",
   "metadata": {},
   "outputs": [
    {
     "name": "stdout",
     "output_type": "stream",
     "text": [
      "Price for the house can be: 3150037.6$\n"
     ]
    }
   ],
   "source": [
    "print('Price for the house can be: %.1f$'%(model.predict(query)))"
   ]
  },
  {
   "cell_type": "code",
   "execution_count": null,
   "id": "4392359a-3b07-4f0e-8c7a-2f916fdcbe73",
   "metadata": {},
   "outputs": [],
   "source": []
  }
 ],
 "metadata": {
  "kernelspec": {
   "display_name": "Python 3",
   "language": "python",
   "name": "python3"
  },
  "language_info": {
   "codemirror_mode": {
    "name": "ipython",
    "version": 3
   },
   "file_extension": ".py",
   "mimetype": "text/x-python",
   "name": "python",
   "nbconvert_exporter": "python",
   "pygments_lexer": "ipython3",
   "version": "3.8.8"
  }
 },
 "nbformat": 4,
 "nbformat_minor": 5
}
