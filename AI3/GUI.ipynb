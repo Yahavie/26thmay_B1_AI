{
 "cells": [
  {
   "cell_type": "code",
   "execution_count": 1,
   "id": "753ceba8-3e5b-4ec1-b344-91beb60b1377",
   "metadata": {},
   "outputs": [],
   "source": [
    "import pandas as pd\n",
    "import warnings\n",
    "warnings.filterwarnings('ignore') \n",
    "import tkinter as tk"
   ]
  },
  {
   "cell_type": "code",
   "execution_count": 2,
   "id": "a7e3868f-8bae-46e5-ad85-93543ff76363",
   "metadata": {},
   "outputs": [],
   "source": [
    "model = pd.read_pickle('HousePricePredictor')"
   ]
  },
  {
   "cell_type": "code",
   "execution_count": 3,
   "id": "2ce09532-5306-41d6-849e-6b5e2285e5e8",
   "metadata": {},
   "outputs": [],
   "source": [
    "import math"
   ]
  },
  {
   "cell_type": "code",
   "execution_count": 4,
   "id": "00279970-7424-41de-b00e-6dd0bebd0812",
   "metadata": {},
   "outputs": [],
   "source": [
    "app=tk.Tk()\n",
    "app.config(bg=\"azure3\")\n",
    "app.geometry('400x280')\n",
    "app.title(\"HousePricePredictor\")\n",
    "tk.Label(app,width=15,text=\"Area Income\",bg=\"midnightblue\",fg=\"white\").place(x=20,y=30)\n",
    "tk.Label(app,width=15,text=\"Area House Age\",bg=\"midnightblue\",fg=\"white\").place(x=20,y=60)\n",
    "tk.Label(app,width=15,text=\"Number of Rooms\",bg=\"midnightblue\",fg=\"white\").place(x=20,y=90)\n",
    "tk.Label(app,width=15,text=\"Area Population\",bg=\"midnightblue\",fg=\"white\").place(x=20,y=120)\n",
    "tk.Label(app,width=15,text=\"House Price :\",fg=\"midnightblue\",bg=\"azure3\",font=(\"Helvetica\", 15,\"bold\")).place(x=20,y=210)"
   ]
  },
  {
   "cell_type": "code",
   "execution_count": 5,
   "id": "2697d77b-ff60-41d6-9581-5c4aa18548cd",
   "metadata": {},
   "outputs": [],
   "source": [
    "area_income=tk.Variable(app)\n",
    "house_age=tk.Variable(app)\n",
    "rooms=tk.Variable(app)\n",
    "population=tk.Variable(app)"
   ]
  },
  {
   "cell_type": "code",
   "execution_count": 6,
   "id": "838704e5-d860-4538-ba49-b2a4e8c4b841",
   "metadata": {},
   "outputs": [],
   "source": [
    "tk.Entry(app,width=25,textvariable=area_income,bg='#ffffff').place(x=200,y=30)\n",
    "tk.Entry(app,width=25,textvariable=house_age,bg='#ffffff').place(x=200,y=60)\n",
    "tk.Entry(app,width=25,textvariable=rooms,bg='#ffffff').place(x=200,y=90)\n",
    "tk.Entry(app,width=25,textvariable=population,bg='#ffffff').place(x=200,y=120)\n",
    "predict_var = tk.Variable(app)\n",
    "tk.Label(app,textvariable=predict_var,fg=\"midnightblue\",bg=\"azure3\",font=(\"Helvetica\", 15,\"bold\")).place(x=200,y=210)"
   ]
  },
  {
   "cell_type": "code",
   "execution_count": 11,
   "id": "7b092d21-8afb-41b5-8c47-e885d10da2f8",
   "metadata": {},
   "outputs": [],
   "source": [
    "def register():\n",
    "    a=area_income.get()\n",
    "    b=house_age.get()\n",
    "    c=rooms.get()\n",
    "    d=population.get()\n",
    "    query = pd.DataFrame({'Avg. Area Income':[a],'Avg. Area House Age':[b],\n",
    "                      'Avg. Area Number of Rooms':[c],'Area Population':[d]})\n",
    "    #n=\"%.1f$'%(model.predict(query)[0])\"\n",
    "    e=model.predict(query)[0]\n",
    "    predict_var.set(\"{0:.1f}$\".format(e))\n",
    "    area_income.set('')\n",
    "    house_age.set('')\n",
    "    rooms.set('')\n",
    "    population.set('')"
   ]
  },
  {
   "cell_type": "code",
   "execution_count": 12,
   "id": "ff137fac-b739-48b4-9439-992fc8261b0c",
   "metadata": {},
   "outputs": [],
   "source": [
    "tk.Button(app,text=\"Predict\",command=register,bg=\"midnightblue\",fg=\"white\").place(x=150,y=150) \n",
    "app.mainloop()"
   ]
  },
  {
   "cell_type": "code",
   "execution_count": null,
   "id": "0c89885b-0a85-453d-9e15-73df0f642ec9",
   "metadata": {},
   "outputs": [],
   "source": []
  }
 ],
 "metadata": {
  "kernelspec": {
   "display_name": "Python 3",
   "language": "python",
   "name": "python3"
  },
  "language_info": {
   "codemirror_mode": {
    "name": "ipython",
    "version": 3
   },
   "file_extension": ".py",
   "mimetype": "text/x-python",
   "name": "python",
   "nbconvert_exporter": "python",
   "pygments_lexer": "ipython3",
   "version": "3.8.8"
  }
 },
 "nbformat": 4,
 "nbformat_minor": 5
}
