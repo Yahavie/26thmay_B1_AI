{
 "cells": [
  {
   "cell_type": "code",
   "execution_count": 6,
   "id": "c168b942-4024-4f0e-9d89-43d4423d00bb",
   "metadata": {},
   "outputs": [],
   "source": [
    "import pandas as pd\n",
    "import warnings\n",
    "import tkinter as tk\n",
    "\n",
    "warnings.filterwarnings('ignore')"
   ]
  },
  {
   "cell_type": "code",
   "execution_count": 11,
   "id": "fb452f83-61be-4897-b652-9c6f29984b68",
   "metadata": {},
   "outputs": [],
   "source": [
    "cols = 'user_id item_id rating timestamp'.split()\n",
    "df = pd.read_csv('u.data',sep='\\t',names=cols)\n",
    "cols_movies = ['item_id', 'title']+[str(i) for i in range(22)]\n",
    "movie_titles = pd.read_csv('u.item',sep='|',names=cols_movies,encoding='latin-1')\n",
    "movie_titles = movie_titles[['item_id','title']]\n",
    "data = pd.merge(df,movie_titles, on='item_id')\n",
    "rating = pd.DataFrame(data.groupby('title')['rating'].mean())\n",
    "rating['count'] = data['title'].value_counts()\n",
    "pivot_df = data.pivot_table(index = 'user_id', columns = 'title', values = 'rating')\n",
    "\n",
    "app=tk.Tk()\n",
    "app.title('Recommender System')\n",
    "app.geometry('500x300')\n",
    "app.config(bg='white')\n",
    "\n",
    "title =tk.Label(app, text=\"Movie Recommendation System\", font=(\"goudy old style\", 15, \"bold\"), bg=\"#033054\",\n",
    "                      fg=\"white\").place(x=0, y=0, width=500, height=25)\n",
    "f= tk.Frame(app,width=460,height=250,bd=5,bg='white',relief=\"ridge\").place(x=20,y=30)\n",
    "tk.Label(f,text='Movie You Watched:',font=(\"quiche sans\", 12, \"bold\"),bg='white',fg='blue').place(x=40,y=50)\n",
    "tk.Label(f,text='Recommended:',font=(\"quiche sans\", 12, \"bold\"),bg='white',fg='blue').place(x=40,y=170)\n",
    "tk.Label(f,text='Also try:',font=(\"quiche sans\", 12, \"bold\"),bg='white',fg='blue').place(x=40,y=220)\n",
    "\n",
    "movie_var= tk.Variable(app)\n",
    "tk.Entry(f,textvariable=movie_var,bg='light yellow',font=('arial',10)).place(x=220,y=50,width=220,height=22)\n",
    "\n",
    "recommend_var =tk.Variable(app)\n",
    "recommend_var.set('Type movie name.....')\n",
    "tk.Label(app,textvariable=recommend_var,bg='white',font=('arial',12)).place(x=220,y=170)\n",
    "\n",
    "also_try_var= tk.Variable(app)\n",
    "also_try_var.set('Type movie name.....')\n",
    "tk.Label(app,textvariable=also_try_var,bg='white',font=('arial',12)).place(x=220,y=220)\n",
    "\n",
    "\n",
    "def find_recommendation():\n",
    "    movie=movie_var.get().lower().strip() \n",
    "    if movie:\n",
    "        try:\n",
    "            movie=movie_titles['title'][ movie_titles['title'].apply(lambda x : movie in x.lower())].values[0]\n",
    "            movie_var.set(movie)\n",
    "        except IndexError:\n",
    "            recommend_var.set('Movie not found')\n",
    "            also_try_var.set('Movie not found')\n",
    "        else:\n",
    "            corr_df = pd.DataFrame(pivot_df.corrwith(pivot_df[movie]),columns = ['Correlation'])\n",
    "            corr_df.dropna(inplace=True)\n",
    "            corr_df = corr_df.join(rating['count'])\n",
    "            recommend_var.set(corr_df[(corr_df['count']>200) & (corr_df['Correlation']>0.4)].sort_values(by='Correlation',ascending=False).index[1])\n",
    "            also_try_var.set(corr_df[corr_df['Correlation']>0.4].sort_values(by='Correlation',ascending=False).index[0])\n",
    "    \n",
    "def clear():\n",
    "    movie_var.set(\"\")\n",
    "    recommend_var.set(\"Type movie name.....\")\n",
    "    also_try_var.set(\"Type movie name.....\")\n",
    "    \n",
    "tk.Button(f,text='Suggestion',command=find_recommendation,font=('arial',12,'bold'),bg='#f44336',fg='white').place(x=220,y=100,width=100,height=30)\n",
    "\n",
    "tk.Button(f,text='Clear',command=clear,font=('arial',12,'bold'),bg='#4caf50',fg='white').place(x=330,y=100,width=100,height=30)\n",
    "\n",
    "\n",
    "app.mainloop()"
   ]
  },
  {
   "cell_type": "code",
   "execution_count": null,
   "id": "48ff379b-f0c5-4fd9-b044-d7220ecd4c79",
   "metadata": {},
   "outputs": [],
   "source": []
  }
 ],
 "metadata": {
  "kernelspec": {
   "display_name": "Python 3",
   "language": "python",
   "name": "python3"
  },
  "language_info": {
   "codemirror_mode": {
    "name": "ipython",
    "version": 3
   },
   "file_extension": ".py",
   "mimetype": "text/x-python",
   "name": "python",
   "nbconvert_exporter": "python",
   "pygments_lexer": "ipython3",
   "version": "3.8.8"
  }
 },
 "nbformat": 4,
 "nbformat_minor": 5
}
